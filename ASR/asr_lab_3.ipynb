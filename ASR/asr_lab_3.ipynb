{
  "nbformat": 4,
  "nbformat_minor": 0,
  "metadata": {
    "accelerator": "GPU",
    "colab": {
      "name": "asr_lab_3.ipynb",
      "provenance": [],
      "collapsed_sections": [],
      "toc_visible": true
    },
    "kernelspec": {
      "display_name": "Python 3",
      "language": "python",
      "name": "python3"
    },
    "language_info": {
      "codemirror_mode": {
        "name": "ipython",
        "version": 3
      },
      "file_extension": ".py",
      "mimetype": "text/x-python",
      "name": "python",
      "nbconvert_exporter": "python",
      "pygments_lexer": "ipython3",
      "version": "3.8.8"
    }
  },
  "cells": [
    {
      "cell_type": "markdown",
      "metadata": {
        "id": "p4V6X26FcseO"
      },
      "source": [
        "# Практика №3\n",
        "\n",
        "Теперь в качестве акустической модели мы будем использовать простой DNN классификатор. На каждом кадре записи мы будем подавать его вектор признаков на DNN, которая будет выдавать \"распределение вероятностей\" по фонемам. Далее это распределение мы будем использовать в нашем алгоритме распознавания по словарю. Схема работы такого классификатора представлена ниже: \n",
        "\n",
        "![](https://drive.google.com/uc?export=view&id=1dv0VuE8DIoKXETbvnZq2PMixkWMCJOxr)"
      ]
    },
    {
      "cell_type": "markdown",
      "metadata": {
        "id": "rHZ_-8Zgddys"
      },
      "source": [
        "### Bootstrap"
      ]
    },
    {
      "cell_type": "code",
      "metadata": {
        "id": "Cn3HKnaHdsvg"
      },
      "source": [
        "!gdown --id '1meikF0XqBUnVZKoY3160MQ0R25lq-EMu'\n",
        "!gdown --id '1f0LkW6I3Q5CnOThuNFAJ9umgnb2eU4Ox'\n",
        "\n",
        "!unzip -q lab2.zip\n",
        "!unzip -q train_librispeech_10h.zip\n",
        "!mv lab2 lab3\n",
        "!mv train_librispeech_10h lab3/data\n",
        "!rm -rf lab2.zip sample_data train_librispeech_10h.zip\n",
        "%cd lab3"
      ],
      "execution_count": null,
      "outputs": []
    },
    {
      "cell_type": "code",
      "metadata": {
        "id": "5ce6879uekCJ"
      },
      "source": [
        "import os\n",
        "import numpy as np\n",
        "import pandas as pd\n",
        "import time\n",
        "from tqdm.notebook import tqdm\n",
        "import matplotlib.pyplot as plt\n",
        "import IPython.display as ipd\n",
        "import librosa, librosa.display\n",
        "import torch\n",
        "import torch.nn as nn\n",
        "import torch.functional as F\n",
        "\n",
        "\n",
        "%matplotlib inline\n",
        "plt.rcParams['figure.figsize'] = (15.0, 5.0)\n",
        "plt.rcParams['image.interpolation'] = 'nearest'\n",
        "plt.rcParams['image.cmap'] = 'gray'"
      ],
      "execution_count": null,
      "outputs": []
    },
    {
      "cell_type": "code",
      "metadata": {
        "id": "962pS6h8e1kp",
        "colab": {
          "referenced_widgets": [
            "7fdd3fb135a14b399463161c018645dc"
          ]
        },
        "outputId": "32213615-25a3-4ce0-ee4f-5b25c58de567"
      },
      "source": [
        "# загрузка списка допустимых фонем:\n",
        "def load_phones_dict(phones_file):\n",
        "    phones_dict = {}\n",
        "    with open(phones_file, encoding='utf-8') as fn:\n",
        "        for index, line in enumerate(fn):\n",
        "            phones_dict[line.strip()] = index\n",
        "    return phones_dict\n",
        "\n",
        "# загрузка покадровой фонемной разметки в словарь:\n",
        "def load_phone_aligment(aligment_file):\n",
        "    ali_dict = {}\n",
        "    with open(aligment_file, encoding='utf-8') as fn:\n",
        "        for line in fn:\n",
        "            line = line.strip().split()\n",
        "            ali_dict[line[0]] = line[1:]\n",
        "    return ali_dict\n",
        "\n",
        "# подсчет акустиеских признаков для записей из папки:\n",
        "def load_data_dict(dir_path, count=None):\n",
        "    data_dict = {}\n",
        "    step = 0\n",
        "    for wav_name in tqdm(os.listdir(dir_path)):\n",
        "        x, sr = librosa.load(os.path.join(dir_path, wav_name), sr=None) \n",
        "        mfcc = librosa.feature.mfcc(x, sr=sr, n_mfcc=13, \n",
        "                                    n_fft=int(sr * 0.025),\n",
        "                                    hop_length=int(sr * 0.01))\n",
        "        step += 1\n",
        "        if count and step == count:\n",
        "            print(f'Early stop at {step}th file..')\n",
        "            break\n",
        "        data_dict[wav_name.split('.')[0]] = mfcc.T  \n",
        "    return data_dict\n",
        "\n",
        "\n",
        "phones_file = 'data/train_librispeech_10h/phones'\n",
        "phones_dict = load_phones_dict(phones_file)\n",
        "\n",
        "ali_file = 'data/train_librispeech_10h/ali_phones.txt'\n",
        "ali_dict = load_phone_aligment(ali_file)\n",
        "\n",
        "train_records_dir = 'data/train_librispeech_10h/wav_dir'\n",
        "feats_dict = load_data_dict(train_records_dir, count=1000)"
      ],
      "execution_count": null,
      "outputs": [
        {
          "output_type": "display_data",
          "data": {
            "application/vnd.jupyter.widget-view+json": {
              "model_id": "7fdd3fb135a14b399463161c018645dc",
              "version_major": 2,
              "version_minor": 0
            },
            "text/plain": [
              "  0%|          | 0/3000 [00:00<?, ?it/s]"
            ]
          },
          "metadata": {
            "tags": []
          }
        },
        {
          "output_type": "stream",
          "text": [
            "Early stop at 1000th file..\n"
          ],
          "name": "stdout"
        }
      ]
    },
    {
      "cell_type": "markdown",
      "metadata": {
        "id": "uANGmL0ufNIW"
      },
      "source": [
        "### Априорная вероятность:\n",
        "\n",
        "![](https://drive.google.com/uc?export=view&id=1WhjclhXm2POYsCgvxp3iAIOvT9F_k8If)"
      ]
    },
    {
      "cell_type": "markdown",
      "metadata": {
        "id": "SyzWCdAbZ3vK"
      },
      "source": [
        "### Будем сохранять метрики для сравнения параметров модели"
      ]
    },
    {
      "cell_type": "code",
      "metadata": {
        "id": "cytJ6_g6dk-0"
      },
      "source": [
        "!gdown --id '1dxwtL3QloJKFRVF6fc33wezS_vFZxqnI'\n",
        "!mv side_effect.txt data/"
      ],
      "execution_count": null,
      "outputs": []
    },
    {
      "cell_type": "code",
      "metadata": {
        "id": "BUGJkMiPZ3vL",
        "outputId": "6d7647e8-290e-4ef6-aedb-860d3358326a"
      },
      "source": [
        "# перезапускал ячейки с разными side_context и параметрами модели\n",
        "side_effect_file = 'data/side_effect.txt'\n",
        "side_effect_description = 'Optimal'\n",
        "\n",
        "side_context_cur = 2\n",
        "\n",
        "side_effect = {\n",
        "    'loss': {},\n",
        "    'accuracy': {},\n",
        "    'training_time': {},\n",
        "    'YES_NO WER': {},\n",
        "    'Digits WER': {}\n",
        "}\n",
        "\n",
        "if os.path.exists(side_effect_file):\n",
        "    df = pd.read_csv(side_effect_file)\n",
        "    df['loss'] = df['loss'].apply(eval)\n",
        "    display(df)\n"
      ],
      "execution_count": null,
      "outputs": [
        {
          "output_type": "display_data",
          "data": {
            "text/html": [
              "<div>\n",
              "<style scoped>\n",
              "    .dataframe tbody tr th:only-of-type {\n",
              "        vertical-align: middle;\n",
              "    }\n",
              "\n",
              "    .dataframe tbody tr th {\n",
              "        vertical-align: top;\n",
              "    }\n",
              "\n",
              "    .dataframe thead th {\n",
              "        text-align: right;\n",
              "    }\n",
              "</style>\n",
              "<table border=\"1\" class=\"dataframe\">\n",
              "  <thead>\n",
              "    <tr style=\"text-align: right;\">\n",
              "      <th></th>\n",
              "      <th>side_context</th>\n",
              "      <th>loss</th>\n",
              "      <th>accuracy</th>\n",
              "      <th>training_time</th>\n",
              "      <th>YES_NO WER</th>\n",
              "      <th>Digits WER</th>\n",
              "      <th>description</th>\n",
              "    </tr>\n",
              "  </thead>\n",
              "  <tbody>\n",
              "    <tr>\n",
              "      <th>0</th>\n",
              "      <td>0</td>\n",
              "      <td>[2.2824326110083035, 2.1633390502667913, 2.127...</td>\n",
              "      <td>0.427033</td>\n",
              "      <td>110.268977</td>\n",
              "      <td>10.0</td>\n",
              "      <td>20.0</td>\n",
              "      <td>NaN</td>\n",
              "    </tr>\n",
              "    <tr>\n",
              "      <th>1</th>\n",
              "      <td>1</td>\n",
              "      <td>[2.0960227393380393, 1.895102188167389, 1.8282...</td>\n",
              "      <td>0.509849</td>\n",
              "      <td>107.076988</td>\n",
              "      <td>10.0</td>\n",
              "      <td>15.0</td>\n",
              "      <td>NaN</td>\n",
              "    </tr>\n",
              "    <tr>\n",
              "      <th>2</th>\n",
              "      <td>2</td>\n",
              "      <td>[1.9666119439610943, 1.7325869040200816, 1.655...</td>\n",
              "      <td>0.551034</td>\n",
              "      <td>108.868322</td>\n",
              "      <td>0.0</td>\n",
              "      <td>0.0</td>\n",
              "      <td>NaN</td>\n",
              "    </tr>\n",
              "    <tr>\n",
              "      <th>3</th>\n",
              "      <td>3</td>\n",
              "      <td>[1.8612791697272923, 1.6094740200617355, 1.525...</td>\n",
              "      <td>0.591441</td>\n",
              "      <td>111.806713</td>\n",
              "      <td>0.0</td>\n",
              "      <td>0.0</td>\n",
              "      <td>NaN</td>\n",
              "    </tr>\n",
              "    <tr>\n",
              "      <th>4</th>\n",
              "      <td>4</td>\n",
              "      <td>[1.803051202218997, 1.5365993443463322, 1.4464...</td>\n",
              "      <td>0.611908</td>\n",
              "      <td>106.194712</td>\n",
              "      <td>0.0</td>\n",
              "      <td>0.0</td>\n",
              "      <td>NaN</td>\n",
              "    </tr>\n",
              "    <tr>\n",
              "      <th>5</th>\n",
              "      <td>5</td>\n",
              "      <td>[1.7600204497675522, 1.4689778692885664, 1.375...</td>\n",
              "      <td>0.633826</td>\n",
              "      <td>99.256996</td>\n",
              "      <td>0.0</td>\n",
              "      <td>5.0</td>\n",
              "      <td>NaN</td>\n",
              "    </tr>\n",
              "    <tr>\n",
              "      <th>6</th>\n",
              "      <td>6</td>\n",
              "      <td>[1.7298814870235883, 1.4361002834160874, 1.340...</td>\n",
              "      <td>0.642502</td>\n",
              "      <td>93.067176</td>\n",
              "      <td>0.0</td>\n",
              "      <td>15.0</td>\n",
              "      <td>NaN</td>\n",
              "    </tr>\n",
              "    <tr>\n",
              "      <th>7</th>\n",
              "      <td>0</td>\n",
              "      <td>[2.3064655498371835, 2.180966949175575, 2.1449...</td>\n",
              "      <td>0.420906</td>\n",
              "      <td>96.088026</td>\n",
              "      <td>20.0</td>\n",
              "      <td>25.0</td>\n",
              "      <td>Minus hidden layer</td>\n",
              "    </tr>\n",
              "    <tr>\n",
              "      <th>8</th>\n",
              "      <td>1</td>\n",
              "      <td>[2.1493808991194463, 1.9390734541605052, 1.869...</td>\n",
              "      <td>0.498058</td>\n",
              "      <td>93.828906</td>\n",
              "      <td>10.0</td>\n",
              "      <td>5.0</td>\n",
              "      <td>Minus hidden layer</td>\n",
              "    </tr>\n",
              "    <tr>\n",
              "      <th>9</th>\n",
              "      <td>2</td>\n",
              "      <td>[2.019265978470947, 1.7718995031409166, 1.6915...</td>\n",
              "      <td>0.545448</td>\n",
              "      <td>91.488810</td>\n",
              "      <td>0.0</td>\n",
              "      <td>5.0</td>\n",
              "      <td>Minus hidden layer</td>\n",
              "    </tr>\n",
              "    <tr>\n",
              "      <th>10</th>\n",
              "      <td>3</td>\n",
              "      <td>[1.9256627394987573, 1.651080919067606, 1.5634...</td>\n",
              "      <td>0.580875</td>\n",
              "      <td>99.091774</td>\n",
              "      <td>0.0</td>\n",
              "      <td>10.0</td>\n",
              "      <td>Minus hidden layer</td>\n",
              "    </tr>\n",
              "    <tr>\n",
              "      <th>11</th>\n",
              "      <td>0</td>\n",
              "      <td>[2.2740238123082657, 2.155918285293894, 2.1199...</td>\n",
              "      <td>0.433693</td>\n",
              "      <td>131.522289</td>\n",
              "      <td>10.0</td>\n",
              "      <td>15.0</td>\n",
              "      <td>Plus hidden layer</td>\n",
              "    </tr>\n",
              "    <tr>\n",
              "      <th>12</th>\n",
              "      <td>1</td>\n",
              "      <td>[2.086268660799251, 1.8868506507558553, 1.8204...</td>\n",
              "      <td>0.508155</td>\n",
              "      <td>132.971776</td>\n",
              "      <td>0.0</td>\n",
              "      <td>10.0</td>\n",
              "      <td>Plus hidden layer</td>\n",
              "    </tr>\n",
              "    <tr>\n",
              "      <th>13</th>\n",
              "      <td>2</td>\n",
              "      <td>[1.9656426473750357, 1.7258266134470654, 1.645...</td>\n",
              "      <td>0.556713</td>\n",
              "      <td>131.712271</td>\n",
              "      <td>0.0</td>\n",
              "      <td>0.0</td>\n",
              "      <td>Plus hidden layer</td>\n",
              "    </tr>\n",
              "    <tr>\n",
              "      <th>14</th>\n",
              "      <td>3</td>\n",
              "      <td>[1.8768343899404862, 1.6171177068051417, 1.527...</td>\n",
              "      <td>0.583918</td>\n",
              "      <td>125.675998</td>\n",
              "      <td>0.0</td>\n",
              "      <td>5.0</td>\n",
              "      <td>Plus hidden layer</td>\n",
              "    </tr>\n",
              "    <tr>\n",
              "      <th>15</th>\n",
              "      <td>0</td>\n",
              "      <td>[2.2414765671889874, 2.1308650299524308, 2.089...</td>\n",
              "      <td>0.437741</td>\n",
              "      <td>115.844472</td>\n",
              "      <td>20.0</td>\n",
              "      <td>25.0</td>\n",
              "      <td>512 hl size</td>\n",
              "    </tr>\n",
              "    <tr>\n",
              "      <th>16</th>\n",
              "      <td>1</td>\n",
              "      <td>[2.0207250531670558, 1.8209107806176592, 1.745...</td>\n",
              "      <td>0.530151</td>\n",
              "      <td>111.954741</td>\n",
              "      <td>40.0</td>\n",
              "      <td>20.0</td>\n",
              "      <td>512 hl size</td>\n",
              "    </tr>\n",
              "    <tr>\n",
              "      <th>17</th>\n",
              "      <td>2</td>\n",
              "      <td>[1.8607684482130933, 1.6260806924395996, 1.537...</td>\n",
              "      <td>0.582263</td>\n",
              "      <td>113.645235</td>\n",
              "      <td>20.0</td>\n",
              "      <td>10.0</td>\n",
              "      <td>512 hl size</td>\n",
              "    </tr>\n",
              "    <tr>\n",
              "      <th>18</th>\n",
              "      <td>3</td>\n",
              "      <td>[1.7651461471646153, 1.503217291975628, 1.4044...</td>\n",
              "      <td>0.622475</td>\n",
              "      <td>116.678229</td>\n",
              "      <td>10.0</td>\n",
              "      <td>5.0</td>\n",
              "      <td>512 hl size</td>\n",
              "    </tr>\n",
              "    <tr>\n",
              "      <th>19</th>\n",
              "      <td>0</td>\n",
              "      <td>[2.3384629968180506, 2.204328104950067, 2.1696...</td>\n",
              "      <td>0.419965</td>\n",
              "      <td>107.363338</td>\n",
              "      <td>10.0</td>\n",
              "      <td>10.0</td>\n",
              "      <td>128 hl size</td>\n",
              "    </tr>\n",
              "    <tr>\n",
              "      <th>20</th>\n",
              "      <td>1</td>\n",
              "      <td>[2.1862207809959875, 1.9826104864162197, 1.921...</td>\n",
              "      <td>0.486456</td>\n",
              "      <td>105.950053</td>\n",
              "      <td>0.0</td>\n",
              "      <td>10.0</td>\n",
              "      <td>128 hl size</td>\n",
              "    </tr>\n",
              "    <tr>\n",
              "      <th>21</th>\n",
              "      <td>2</td>\n",
              "      <td>[2.0783721933245687, 1.8361985259650941, 1.765...</td>\n",
              "      <td>0.525640</td>\n",
              "      <td>106.841376</td>\n",
              "      <td>0.0</td>\n",
              "      <td>0.0</td>\n",
              "      <td>128 hl size</td>\n",
              "    </tr>\n",
              "    <tr>\n",
              "      <th>22</th>\n",
              "      <td>3</td>\n",
              "      <td>[2.0257739250853084, 1.7521592728715474, 1.669...</td>\n",
              "      <td>0.553010</td>\n",
              "      <td>106.161948</td>\n",
              "      <td>0.0</td>\n",
              "      <td>10.0</td>\n",
              "      <td>128 hl size</td>\n",
              "    </tr>\n",
              "  </tbody>\n",
              "</table>\n",
              "</div>"
            ],
            "text/plain": [
              "    side_context                                               loss  accuracy  \\\n",
              "0              0  [2.2824326110083035, 2.1633390502667913, 2.127...  0.427033   \n",
              "1              1  [2.0960227393380393, 1.895102188167389, 1.8282...  0.509849   \n",
              "2              2  [1.9666119439610943, 1.7325869040200816, 1.655...  0.551034   \n",
              "3              3  [1.8612791697272923, 1.6094740200617355, 1.525...  0.591441   \n",
              "4              4  [1.803051202218997, 1.5365993443463322, 1.4464...  0.611908   \n",
              "5              5  [1.7600204497675522, 1.4689778692885664, 1.375...  0.633826   \n",
              "6              6  [1.7298814870235883, 1.4361002834160874, 1.340...  0.642502   \n",
              "7              0  [2.3064655498371835, 2.180966949175575, 2.1449...  0.420906   \n",
              "8              1  [2.1493808991194463, 1.9390734541605052, 1.869...  0.498058   \n",
              "9              2  [2.019265978470947, 1.7718995031409166, 1.6915...  0.545448   \n",
              "10             3  [1.9256627394987573, 1.651080919067606, 1.5634...  0.580875   \n",
              "11             0  [2.2740238123082657, 2.155918285293894, 2.1199...  0.433693   \n",
              "12             1  [2.086268660799251, 1.8868506507558553, 1.8204...  0.508155   \n",
              "13             2  [1.9656426473750357, 1.7258266134470654, 1.645...  0.556713   \n",
              "14             3  [1.8768343899404862, 1.6171177068051417, 1.527...  0.583918   \n",
              "15             0  [2.2414765671889874, 2.1308650299524308, 2.089...  0.437741   \n",
              "16             1  [2.0207250531670558, 1.8209107806176592, 1.745...  0.530151   \n",
              "17             2  [1.8607684482130933, 1.6260806924395996, 1.537...  0.582263   \n",
              "18             3  [1.7651461471646153, 1.503217291975628, 1.4044...  0.622475   \n",
              "19             0  [2.3384629968180506, 2.204328104950067, 2.1696...  0.419965   \n",
              "20             1  [2.1862207809959875, 1.9826104864162197, 1.921...  0.486456   \n",
              "21             2  [2.0783721933245687, 1.8361985259650941, 1.765...  0.525640   \n",
              "22             3  [2.0257739250853084, 1.7521592728715474, 1.669...  0.553010   \n",
              "\n",
              "    training_time  YES_NO WER  Digits WER         description  \n",
              "0      110.268977        10.0        20.0                 NaN  \n",
              "1      107.076988        10.0        15.0                 NaN  \n",
              "2      108.868322         0.0         0.0                 NaN  \n",
              "3      111.806713         0.0         0.0                 NaN  \n",
              "4      106.194712         0.0         0.0                 NaN  \n",
              "5       99.256996         0.0         5.0                 NaN  \n",
              "6       93.067176         0.0        15.0                 NaN  \n",
              "7       96.088026        20.0        25.0  Minus hidden layer  \n",
              "8       93.828906        10.0         5.0  Minus hidden layer  \n",
              "9       91.488810         0.0         5.0  Minus hidden layer  \n",
              "10      99.091774         0.0        10.0  Minus hidden layer  \n",
              "11     131.522289        10.0        15.0   Plus hidden layer  \n",
              "12     132.971776         0.0        10.0   Plus hidden layer  \n",
              "13     131.712271         0.0         0.0   Plus hidden layer  \n",
              "14     125.675998         0.0         5.0   Plus hidden layer  \n",
              "15     115.844472        20.0        25.0         512 hl size  \n",
              "16     111.954741        40.0        20.0         512 hl size  \n",
              "17     113.645235        20.0        10.0         512 hl size  \n",
              "18     116.678229        10.0         5.0         512 hl size  \n",
              "19     107.363338        10.0        10.0         128 hl size  \n",
              "20     105.950053         0.0        10.0         128 hl size  \n",
              "21     106.841376         0.0         0.0         128 hl size  \n",
              "22     106.161948         0.0        10.0         128 hl size  "
            ]
          },
          "metadata": {
            "tags": []
          }
        }
      ]
    },
    {
      "cell_type": "markdown",
      "metadata": {
        "id": "Sy_kkWdpZ3vL"
      },
      "source": [
        "### <b>Задание №1 (решение) </b>\n",
        "Реализовать контексты для входных признаков путем конкатенации кадров слева и справа от текущего."
      ]
    },
    {
      "cell_type": "code",
      "metadata": {
        "id": "2n8qgqIrfiS_"
      },
      "source": [
        "# объединение кадров признаков с соответствующими им фонемам:\n",
        "def combain_data(ali_dict, feats_dict, phones_dict, side_context=None):\n",
        "    data_list = []\n",
        "    priors_list = [0] * len(phones_dict)\n",
        "    for file_name in feats_dict.keys():\n",
        "        file_feats = feats_dict[file_name]\n",
        "        file_ali = ali_dict[file_name]\n",
        "        frames_total = min(len(file_feats), len(file_ali)) \n",
        "        for frame in range(frames_total):\n",
        "            # конкатенация кадров слева и справа от текущего\n",
        "            ftr_frame = np.array([])\n",
        "            for i in range(-side_context, side_context + 1):\n",
        "                cur_frame = max(min(frame + i, frames_total - 1), 0)\n",
        "                ftr_frame = np.append(ftr_frame, file_feats[cur_frame])\n",
        "            data_list.append(np.append(ftr_frame, phones_dict[file_ali[frame]]))\n",
        "            priors_list[phones_dict[file_ali[frame]]] += 1\n",
        "    return data_list, np.array(priors_list)/sum(priors_list)\n",
        "\n",
        "side_context = side_context_cur\n",
        "data_list, priors_list = combain_data(ali_dict, feats_dict, phones_dict, side_context)\n",
        "data_list = np.random.permutation(data_list)"
      ],
      "execution_count": null,
      "outputs": []
    },
    {
      "cell_type": "code",
      "metadata": {
        "id": "qHLC2DdUftpu"
      },
      "source": [
        "class CommonDataSet():\n",
        "\n",
        "    def __init__(self, data_list, device, valid_proportion=0.1):\n",
        "        self.train = data_list[:int((1-valid_proportion)*len(data_list))]\n",
        "        self.valid = data_list[int((1-valid_proportion)*len(data_list)):]\n",
        "        self.device = device\n",
        "        \n",
        "    def num_batches(self, batch_size):\n",
        "        return len(self.train)//batch_size        \n",
        "        \n",
        "    def next_batch(self, batch_size):\n",
        "        for i in range(self.num_batches(batch_size)):\n",
        "            batch_xs = torch.tensor(self.train[i * batch_size:(i + 1) * batch_size, :-1], dtype=torch.float32)\n",
        "            batch_ys = torch.tensor(self.train[i * batch_size:(i + 1) * batch_size,-1].ravel(), dtype=torch.int64)\n",
        "\n",
        "            yield batch_xs.to(device), batch_ys.to(device)"
      ],
      "execution_count": null,
      "outputs": []
    },
    {
      "cell_type": "code",
      "metadata": {
        "id": "a9uSB2Q_fu_M"
      },
      "source": [
        "class MyNet(torch.nn.Module):\n",
        "\n",
        "    def __init__(self, input_dim, output_dim):\n",
        "        super(MyNet, self).__init__()\n",
        "        # params:\n",
        "        input_dim = input_dim       # размерность входных признаков\n",
        "        n_nodes_hl1 = 256\n",
        "        n_nodes_hl2 = 256\n",
        "        n_nodes_hl3 = 256\n",
        "        n_nodes_hl4 = 256\n",
        "        output_dim = output_dim     # количество выходных классов (фонем)\n",
        "        # FC layers:\n",
        "        self.fc1 = nn.Linear(input_dim, n_nodes_hl1)\n",
        "        self.fc2 = nn.Linear(n_nodes_hl1, n_nodes_hl2)\n",
        "        self.fc3 = nn.Linear(n_nodes_hl2, n_nodes_hl3)\n",
        "        self.fc4 = nn.Linear(n_nodes_hl3, n_nodes_hl4)\n",
        "        self.fc5 = nn.Linear(n_nodes_hl4, output_dim)\n",
        "\n",
        "    def forward(self, x):\n",
        "        x = torch.relu(self.fc1(x))\n",
        "        x = torch.relu(self.fc2(x))\n",
        "        x = torch.relu(self.fc3(x))\n",
        "        x = torch.relu(self.fc4(x))\n",
        "        x = self.fc5(x)\n",
        "        return (x)"
      ],
      "execution_count": null,
      "outputs": []
    },
    {
      "cell_type": "code",
      "metadata": {
        "id": "owcdDPb8fy2_",
        "colab": {
          "referenced_widgets": [
            "4910064c9c8b476dbe80622ed3c6626b",
            "8b61c8e413b74368b4d9142fba1e5dbe",
            "56802479459640a780877540373b4589",
            "5688586d531d4b46bb76d1b4355ec18c",
            "dc655460116f4fc59c05b763c199bfdf",
            "2390294fa00f489b961e647764a9ee69",
            "28723aa6f8624438a634016c6016587f",
            "82221e90b6af414ea21be79e930ddff4",
            "5ab6dd76fe364e7d9bb57c62b44745ab",
            "4c85873d61b74246b6a5d4028828a2ac"
          ]
        },
        "outputId": "dae96118-139c-4574-eaf8-873081cd9d49"
      },
      "source": [
        "device = torch.device('cuda' if torch.cuda.is_available() else 'cpu')\n",
        "\n",
        "# load data:\n",
        "data_set = CommonDataSet(data_list, device)\n",
        "\n",
        "batch_size = 256\n",
        "\n",
        "# training network model:\n",
        "start = time.time() \n",
        "net = MyNet(input_dim=(data_list[0].shape[0] - 1),\n",
        "            output_dim=len(phones_dict.keys())).to(device)\n",
        "criterion = nn.CrossEntropyLoss()\n",
        "optimizer = torch.optim.Adam(net.parameters(), lr=0.0001)\n",
        "\n",
        "loss_list = []\n",
        "\n",
        "print('TRAINIG IS STARTED...')\n",
        "for epoch in range(10):\n",
        "    running_loss = 0\n",
        "    counter = 0\n",
        "    for batch_xs, batch_ys in tqdm(data_set.next_batch(batch_size), \\\n",
        "                                   total=data_set.num_batches(batch_size), \\\n",
        "                                   desc='epoch {}'.format(epoch)):\n",
        "        optimizer.zero_grad()\n",
        "        output = net(batch_xs)\n",
        "\n",
        "        loss = criterion(output, batch_ys)\n",
        "        loss.backward()\n",
        "        optimizer.step()\n",
        "        \n",
        "        running_loss += loss.item()\n",
        "        counter += 1\n",
        "        \n",
        "    print('loss is: {:.4f}'.format((running_loss / counter)))\n",
        "    loss_list.append(running_loss / counter)\n",
        "    \n",
        "end = time.time()\n",
        "minutes = (end - start) // 60\n",
        "seconds = np.mod((end - start), 60)\n",
        "print('Time is: {} min {} sec'.format(int(minutes), int(seconds)))"
      ],
      "execution_count": null,
      "outputs": [
        {
          "output_type": "stream",
          "text": [
            "TRAINIG IS STARTED...\n"
          ],
          "name": "stdout"
        },
        {
          "output_type": "display_data",
          "data": {
            "application/vnd.jupyter.widget-view+json": {
              "model_id": "4910064c9c8b476dbe80622ed3c6626b",
              "version_major": 2,
              "version_minor": 0
            },
            "text/plain": [
              "epoch 0:   0%|          | 0/4481 [00:00<?, ?it/s]"
            ]
          },
          "metadata": {
            "tags": []
          }
        },
        {
          "output_type": "stream",
          "text": [
            "loss is: 1.9628\n"
          ],
          "name": "stdout"
        },
        {
          "output_type": "display_data",
          "data": {
            "application/vnd.jupyter.widget-view+json": {
              "model_id": "8b61c8e413b74368b4d9142fba1e5dbe",
              "version_major": 2,
              "version_minor": 0
            },
            "text/plain": [
              "epoch 1:   0%|          | 0/4481 [00:00<?, ?it/s]"
            ]
          },
          "metadata": {
            "tags": []
          }
        },
        {
          "output_type": "stream",
          "text": [
            "loss is: 1.7307\n"
          ],
          "name": "stdout"
        },
        {
          "output_type": "display_data",
          "data": {
            "application/vnd.jupyter.widget-view+json": {
              "model_id": "56802479459640a780877540373b4589",
              "version_major": 2,
              "version_minor": 0
            },
            "text/plain": [
              "epoch 2:   0%|          | 0/4481 [00:00<?, ?it/s]"
            ]
          },
          "metadata": {
            "tags": []
          }
        },
        {
          "output_type": "stream",
          "text": [
            "loss is: 1.6545\n"
          ],
          "name": "stdout"
        },
        {
          "output_type": "display_data",
          "data": {
            "application/vnd.jupyter.widget-view+json": {
              "model_id": "5688586d531d4b46bb76d1b4355ec18c",
              "version_major": 2,
              "version_minor": 0
            },
            "text/plain": [
              "epoch 3:   0%|          | 0/4481 [00:00<?, ?it/s]"
            ]
          },
          "metadata": {
            "tags": []
          }
        },
        {
          "output_type": "stream",
          "text": [
            "loss is: 1.6058\n"
          ],
          "name": "stdout"
        },
        {
          "output_type": "display_data",
          "data": {
            "application/vnd.jupyter.widget-view+json": {
              "model_id": "dc655460116f4fc59c05b763c199bfdf",
              "version_major": 2,
              "version_minor": 0
            },
            "text/plain": [
              "epoch 4:   0%|          | 0/4481 [00:00<?, ?it/s]"
            ]
          },
          "metadata": {
            "tags": []
          }
        },
        {
          "output_type": "stream",
          "text": [
            "loss is: 1.5698\n"
          ],
          "name": "stdout"
        },
        {
          "output_type": "display_data",
          "data": {
            "application/vnd.jupyter.widget-view+json": {
              "model_id": "2390294fa00f489b961e647764a9ee69",
              "version_major": 2,
              "version_minor": 0
            },
            "text/plain": [
              "epoch 5:   0%|          | 0/4481 [00:00<?, ?it/s]"
            ]
          },
          "metadata": {
            "tags": []
          }
        },
        {
          "output_type": "stream",
          "text": [
            "loss is: 1.5412\n"
          ],
          "name": "stdout"
        },
        {
          "output_type": "display_data",
          "data": {
            "application/vnd.jupyter.widget-view+json": {
              "model_id": "28723aa6f8624438a634016c6016587f",
              "version_major": 2,
              "version_minor": 0
            },
            "text/plain": [
              "epoch 6:   0%|          | 0/4481 [00:00<?, ?it/s]"
            ]
          },
          "metadata": {
            "tags": []
          }
        },
        {
          "output_type": "stream",
          "text": [
            "loss is: 1.5171\n"
          ],
          "name": "stdout"
        },
        {
          "output_type": "display_data",
          "data": {
            "application/vnd.jupyter.widget-view+json": {
              "model_id": "82221e90b6af414ea21be79e930ddff4",
              "version_major": 2,
              "version_minor": 0
            },
            "text/plain": [
              "epoch 7:   0%|          | 0/4481 [00:00<?, ?it/s]"
            ]
          },
          "metadata": {
            "tags": []
          }
        },
        {
          "output_type": "stream",
          "text": [
            "loss is: 1.4964\n"
          ],
          "name": "stdout"
        },
        {
          "output_type": "display_data",
          "data": {
            "application/vnd.jupyter.widget-view+json": {
              "model_id": "5ab6dd76fe364e7d9bb57c62b44745ab",
              "version_major": 2,
              "version_minor": 0
            },
            "text/plain": [
              "epoch 8:   0%|          | 0/4481 [00:00<?, ?it/s]"
            ]
          },
          "metadata": {
            "tags": []
          }
        },
        {
          "output_type": "stream",
          "text": [
            "loss is: 1.4782\n"
          ],
          "name": "stdout"
        },
        {
          "output_type": "display_data",
          "data": {
            "application/vnd.jupyter.widget-view+json": {
              "model_id": "4c85873d61b74246b6a5d4028828a2ac",
              "version_major": 2,
              "version_minor": 0
            },
            "text/plain": [
              "epoch 9:   0%|          | 0/4481 [00:00<?, ?it/s]"
            ]
          },
          "metadata": {
            "tags": []
          }
        },
        {
          "output_type": "stream",
          "text": [
            "loss is: 1.4617\n",
            "Time is: 1 min 53 sec\n"
          ],
          "name": "stdout"
        }
      ]
    },
    {
      "cell_type": "code",
      "metadata": {
        "id": "8E3DhWLPZ3vP"
      },
      "source": [
        "side_effect['loss'][side_context] = loss_list\n",
        "side_effect['training_time'][side_context] = end - start"
      ],
      "execution_count": null,
      "outputs": []
    },
    {
      "cell_type": "code",
      "metadata": {
        "id": "Eb6dlB11f9tJ",
        "outputId": "f303538c-e87a-42e6-ec38-bf76a759c770"
      },
      "source": [
        "plt.rcParams['figure.figsize'] = (15.0, 5.0)\n",
        "for k, v in side_effect['loss'].items():\n",
        "    plt.plot(v, label=f'Side context = {k}')\n",
        "plt.title('Loss per epoch')\n",
        "plt.ylabel('loss')\n",
        "plt.xlabel('epoch')\n",
        "plt.legend()\n",
        "plt.grid()\n",
        "plt.show()"
      ],
      "execution_count": null,
      "outputs": [
        {
          "output_type": "display_data",
          "data": {
            "image/png": "[encoded data removed]",
            "text/plain": [
              "<Figure size 1080x360 with 1 Axes>"
            ]
          },
          "metadata": {
            "tags": [],
            "needs_background": "light"
          }
        }
      ]
    },
    {
      "cell_type": "code",
      "metadata": {
        "id": "Og_i93uLf96T",
        "colab": {
          "referenced_widgets": [
            "d959828c2255473dbab86daa85fcb1b5"
          ]
        },
        "outputId": "caca2f91-4d34-4117-baeb-d2af78a9d446"
      },
      "source": [
        "net.cpu()\n",
        "with torch.no_grad():\n",
        "    correct_cnt = 0\n",
        "    for ftr, true_label in tqdm(zip(data_set.valid[:, :-1], data_set.valid[:, -1]), total=data_set.valid.shape[0]):\n",
        "        ftr = torch.from_numpy(ftr).float()\n",
        "        output = net.forward(ftr)\n",
        "        correct_cnt += (output.argmax().item() == true_label)\n",
        "    \n",
        "    frame_accuracy = correct_cnt / data_set.valid.shape[0]\n",
        "    side_effect['accuracy'][side_context] = frame_accuracy\n",
        "    print(\"Total frame accuracy is {:.3f}\".format(frame_accuracy))"
      ],
      "execution_count": null,
      "outputs": [
        {
          "output_type": "display_data",
          "data": {
            "application/vnd.jupyter.widget-view+json": {
              "model_id": "d959828c2255473dbab86daa85fcb1b5",
              "version_major": 2,
              "version_minor": 0
            },
            "text/plain": [
              "  0%|          | 0/127475 [00:00<?, ?it/s]"
            ]
          },
          "metadata": {
            "tags": []
          }
        },
        {
          "output_type": "stream",
          "text": [
            "Total frame accuracy is 0.555\n"
          ],
          "name": "stdout"
        }
      ]
    },
    {
      "cell_type": "code",
      "metadata": {
        "id": "nVyIFfWEgHHk",
        "colab": {
          "referenced_widgets": [
            "0cf6b7c94a27415b8fdae0ebefe5fc2c"
          ]
        },
        "outputId": "90e3371d-609a-4f56-c656-580c63a6712a"
      },
      "source": [
        "class_correct = [0 for x in range(len(phones_dict.keys()))]\n",
        "class_total = [0 for x in range(len(phones_dict.keys()))]\n",
        "net.cpu()\n",
        "with torch.no_grad():\n",
        "    for ftr, true_label in tqdm(zip(data_set.valid[:, :-1], data_set.valid[:, -1]), total=data_set.valid.shape[0]):\n",
        "        ftr = torch.from_numpy(ftr).float()\n",
        "        output = net.forward(ftr)\n",
        "        predict_label = output.argmax().item()\n",
        "        \n",
        "        class_correct[predict_label] += (predict_label == int(true_label))\n",
        "        class_total[int(true_label)] += 1\n",
        "\n",
        "for idx, phone in enumerate(phones_dict.keys()):\n",
        "    if class_total[idx]:\n",
        "        print('{:3s}: {:.2f} : {}/{}'.format(phone, class_correct[idx] / class_total[idx], \\\n",
        "                                                     class_correct[idx], class_total[idx]))"
      ],
      "execution_count": null,
      "outputs": [
        {
          "output_type": "display_data",
          "data": {
            "application/vnd.jupyter.widget-view+json": {
              "model_id": "0cf6b7c94a27415b8fdae0ebefe5fc2c",
              "version_major": 2,
              "version_minor": 0
            },
            "text/plain": [
              "  0%|          | 0/127475 [00:00<?, ?it/s]"
            ]
          },
          "metadata": {
            "tags": []
          }
        },
        {
          "output_type": "stream",
          "text": [
            "SIL: 0.96 : 21818/22687\n",
            "SPN: 0.01 : 7/599\n",
            "AA0: 0.00 : 0/28\n",
            "AA1: 0.42 : 741/1767\n",
            "AA2: 0.00 : 0/90\n",
            "AE0: 0.00 : 0/49\n",
            "AE1: 0.59 : 2171/3663\n",
            "AE2: 0.00 : 0/90\n",
            "AH0: 0.42 : 2364/5582\n",
            "AH1: 0.26 : 501/1928\n",
            "AH2: 0.00 : 0/38\n",
            "AO0: 0.00 : 0/24\n",
            "AO1: 0.48 : 920/1930\n",
            "AO2: 0.00 : 0/52\n",
            "AW0: 0.00 : 0/1\n",
            "AW1: 0.31 : 337/1072\n",
            "AW2: 0.02 : 1/42\n",
            "AY0: 0.00 : 0/60\n",
            "AY1: 0.63 : 1808/2867\n",
            "AY2: 0.00 : 0/177\n",
            "B  : 0.36 : 559/1573\n",
            "CH : 0.41 : 380/936\n",
            "D  : 0.34 : 1342/3948\n",
            "DH : 0.45 : 891/1983\n",
            "EH0: 0.00 : 0/68\n",
            "EH1: 0.29 : 831/2846\n",
            "EH2: 0.00 : 0/99\n",
            "ER0: 0.41 : 1067/2628\n",
            "ER1: 0.27 : 261/961\n",
            "ER2: 0.00 : 0/15\n",
            "EY0: 0.00 : 0/24\n",
            "EY1: 0.58 : 1387/2394\n",
            "EY2: 0.01 : 1/149\n",
            "F  : 0.59 : 1369/2328\n",
            "G  : 0.19 : 160/847\n",
            "HH : 0.47 : 1026/2164\n",
            "IH0: 0.15 : 388/2634\n",
            "IH1: 0.15 : 333/2216\n",
            "IH2: 0.00 : 0/69\n",
            "IY0: 0.39 : 902/2299\n",
            "IY1: 0.60 : 1442/2413\n",
            "IY2: 0.02 : 1/56\n",
            "JH : 0.23 : 137/600\n",
            "K  : 0.55 : 1729/3132\n",
            "L  : 0.68 : 2828/4153\n",
            "M  : 0.54 : 1769/3260\n",
            "N  : 0.59 : 3503/5948\n",
            "NG : 0.33 : 432/1292\n",
            "OW0: 0.01 : 3/211\n",
            "OW1: 0.41 : 770/1864\n",
            "OW2: 0.00 : 0/123\n",
            "OY1: 0.10 : 30/310\n",
            "OY2: 0.00 : 0/6\n",
            "P  : 0.33 : 701/2126\n",
            "R  : 0.59 : 2197/3714\n",
            "S  : 0.83 : 5537/6688\n",
            "SH : 0.66 : 865/1317\n",
            "T  : 0.44 : 2774/6297\n",
            "TH : 0.10 : 80/801\n",
            "UH0: 0.00 : 0/2\n",
            "UH1: 0.13 : 52/412\n",
            "UH2: 0.00 : 0/4\n",
            "UW0: 0.00 : 0/85\n",
            "UW1: 0.47 : 767/1627\n",
            "UW2: 0.00 : 0/29\n",
            "V  : 0.32 : 543/1696\n",
            "W  : 0.59 : 1293/2204\n",
            "Y  : 0.22 : 158/714\n",
            "Z  : 0.47 : 1583/3396\n",
            "ZH : 0.22 : 15/68\n"
          ],
          "name": "stdout"
        }
      ]
    },
    {
      "cell_type": "markdown",
      "metadata": {
        "id": "nIRfRzMYgNn5"
      },
      "source": [
        "### Распознавание по словарю с помощью нейронки"
      ]
    },
    {
      "cell_type": "code",
      "metadata": {
        "id": "BaGrFSm9gOYK"
      },
      "source": [
        "# теперь будем распознавать по словарю, состоящему из конечных слов\n",
        "# для этого нужно загрузить файл лексикона, который определяет из каких фонем состоят наши слова\n",
        "def load_lexicon_dict(lexicon_file):\n",
        "    lexicon_dict = {}\n",
        "    with open(lexicon_file, encoding='utf-8') as fn:\n",
        "        for line in fn:\n",
        "            line = line.strip().split()\n",
        "            lexicon_dict[line[0]] = line[1:]\n",
        "    return lexicon_dict"
      ],
      "execution_count": null,
      "outputs": []
    },
    {
      "cell_type": "code",
      "metadata": {
        "id": "-Nyn975_gSXX"
      },
      "source": [
        "class AcousticModel:\n",
        "    def __init__(self, phone_name, phone_index, priors_list):\n",
        "        self.phone_name = phone_name\n",
        "        self.phone_index = phone_index\n",
        "        self.phone_prior = priors_list[phone_index]\n",
        "        \n",
        "    def distance(self, input_feats, nnet):\n",
        "        with torch.no_grad():\n",
        "            predicts = nnet.forward(torch.tensor(input_feats, dtype=torch.float32))\n",
        "            softmax = torch.nn.functional.softmax(predicts, dim=0)\n",
        "        return -np.log(softmax[self.phone_index].item() / self.phone_prior)\n",
        "\n",
        "class State:\n",
        "    def __init__(self, model, index):  \n",
        "        self.model = model                     # вектор признаков узла\n",
        "        self.is_final = False                  # является ли этот узел финальнвм в слове\n",
        "        self.word = None                       # слово эталона (назначается только для финального узла)\n",
        "        self.best_token = None                 # лучший токен (по минимуму дистанции) в узле\n",
        "        self.current_word = None               # текущее слово эталона\n",
        "        self.next_states = []                  # список следующих узлов\n",
        "        self.index = index                     # индекс узла \n",
        "\n",
        "        \n",
        "def load_graph(lexicon_dict, phones_dict, priors_list):\n",
        "    start_state = State(None, 0)\n",
        "    graph = [start_state, ]\n",
        "    state_index = 1\n",
        "    for word in lexicon_dict.keys():\n",
        "        previous_state = start_state\n",
        "        for phone in lexicon_dict[word]:\n",
        "            state = State(AcousticModel(phone, phones_dict[phone], priors_list), state_index)\n",
        "            state.current_word = word           # слово эталона теперь будет храниться в каждом узле\n",
        "            state.next_states.append(state)     # add loop\n",
        "            previous_state.next_states.append(state)\n",
        "            previous_state = state \n",
        "            graph.append(state)\n",
        "            state_index += 1\n",
        "        if state:\n",
        "            state.word = word\n",
        "            state.is_final = True\n",
        "    return graph"
      ],
      "execution_count": null,
      "outputs": []
    },
    {
      "cell_type": "code",
      "metadata": {
        "id": "lK9ZeJzJgXp7"
      },
      "source": [
        "class Token:\n",
        "    def __init__(self, state, dist=0.0, word=\"\"):\n",
        "        self.state = state       # стейт графа, в котором токен находится в текущий момент\n",
        "        self.dist = dist         # общая накопленная дистанция пути, пройденного токеном\n",
        "        self.word = word         # слово, которое распозналось токеном\n",
        "        self.alive = True\n",
        "\n",
        "\n",
        "def beam_pruning(next_tokens, threshold):   \n",
        "    alive_tokens = [token for token in next_tokens if token.alive]\n",
        "    best_token = alive_tokens[np.argmin([token.dist for token in alive_tokens if token.alive])]\n",
        "    for token in next_tokens:\n",
        "        if token.dist > best_token.dist + threshold:\n",
        "            token.alive = False\n",
        "    return next_tokens\n",
        "\n",
        "\n",
        "def state_pruning(next_tokens):\n",
        "    for i in range(len(next_tokens)): \n",
        "        state_index = next_tokens[i].state.index\n",
        "        if not graph[state_index].best_token:\n",
        "            graph[state_index].best_token = next_tokens[i]\n",
        "        else:\n",
        "            if next_tokens[i].dist <= graph[state_index].best_token.dist:\n",
        "                graph[state_index].best_token.alive = False\n",
        "                graph[state_index].best_token = next_tokens[i]\n",
        "            else:\n",
        "                next_tokens[i].alive = False\n",
        "    for token in next_tokens:                           \n",
        "        index = token.state.index                        \n",
        "        if graph[index].best_token:                     \n",
        "            graph[index].best_token = None              \n",
        "    return next_tokens\n",
        "\n",
        "\n",
        "def recognize(filename, features, graph, nnet, recognition_results, beam_threshold, side_context):\n",
        "\n",
        "    start_state = graph[0]\n",
        "    active_tokens = [Token(start_state), ]\n",
        "    next_tokens = []\n",
        "    \n",
        "    for frame in range(len(features)):\n",
        "        # конкатенация кадров слева и справа от текущего\n",
        "        ftr_frame = np.array([])\n",
        "        for i in range(-side_context, side_context + 1):\n",
        "            cur_frame = max(min(frame + i, len(features) - 1), 0)\n",
        "            ftr_frame = np.append(ftr_frame, features[cur_frame])        \n",
        "        \n",
        "        for token in active_tokens:\n",
        "            if token.alive:\n",
        "                for transition_state in token.state.next_states:\n",
        "                    new_token = Token(transition_state, token.dist, token.word)\n",
        "                    new_token.dist += transition_state.model.distance(ftr_frame, nnet)\n",
        "                    next_tokens.append(new_token)\n",
        "        # state and beam prunings:\n",
        "        next_tokens = state_pruning(next_tokens)         \n",
        "        next_tokens = beam_pruning(next_tokens, beam_threshold) \n",
        "\n",
        "        active_tokens = next_tokens\n",
        "        next_tokens = []                                    \n",
        "        \n",
        "    # поиск финальных токенов:\n",
        "    final_tokens = []\n",
        "    for token in active_tokens:\n",
        "        if token.state.is_final and token.alive:\n",
        "            final_tokens.append(token)\n",
        "\n",
        "    # если нет финальных, то берем лучший из выживших:\n",
        "    if len(final_tokens) != 0:\n",
        "        win_token = final_tokens[np.argmin([token.dist for token in final_tokens])]\n",
        "    else:\n",
        "        alive_tokens = [token for token in active_tokens if token.alive]\n",
        "        win_token = alive_tokens[np.argmin([token.dist for token in alive_tokens])]\n",
        "        win_token.state.word = win_token.state.current_word\n",
        "\n",
        "    # вывод результата\n",
        "    print(f\"result: {filename:<27} ==> {win_token.state.word}\")\n",
        "\n",
        "    # совпадает ли запись с полученным эталоном:  \n",
        "    record_word = filename.split('_')[0]\n",
        "    etalon_word = win_token.state.word.split('_')[0]\n",
        "    recognition_results.append(etalon_word.lower() == record_word)\n",
        "\n",
        "    return recognition_results"
      ],
      "execution_count": null,
      "outputs": []
    },
    {
      "cell_type": "code",
      "metadata": {
        "id": "mr-Eg4ejgait"
      },
      "source": [
        "def run_recognizer(records_data_dict, graph, nnet, task, beam_threshold=10):\n",
        "    start_time = time.time()\n",
        "    recognition_results = []\n",
        "    \n",
        "    for filename in records_data_dict.keys():    \n",
        "        recognition_results = recognize(filename,\n",
        "                                        records_data_dict[filename],\n",
        "                                        graph, nnet,\n",
        "                                        recognition_results,\n",
        "                                        beam_threshold,\n",
        "                                        side_context)\n",
        "\n",
        "    wer = (1 - sum(recognition_results)/len(recognition_results))*100\n",
        "    side_effect[f'{task} WER'][side_context] = wer\n",
        "    \n",
        "    print(\"-\" * 60)\n",
        "    print(f\"WER is: {wer:.2f}%\")\n",
        "    print(f\"Total time is: {time.time() - start_time:.2f} sec\")\n",
        "    print(\"-\" * 60)"
      ],
      "execution_count": null,
      "outputs": []
    },
    {
      "cell_type": "markdown",
      "metadata": {
        "id": "mwf8Fl3ffkM_"
      },
      "source": [
        "### Запустим распознавание на базе YES_NO"
      ]
    },
    {
      "cell_type": "code",
      "metadata": {
        "id": "knH2AK1-gfD3",
        "colab": {
          "referenced_widgets": [
            "c4ab8f233f4f4968a0b8afca14205fcb"
          ]
        },
        "outputId": "1f8a9089-7d4a-426b-90b9-df036cb03796"
      },
      "source": [
        "lexicon_file = 'data/lexicon_yes_no.txt'\n",
        "lexicon_dict = load_lexicon_dict(lexicon_file)\n",
        "graph = load_graph(lexicon_dict, phones_dict, priors_list)\n",
        "records_data_dict = load_data_dict(\"data/yes_no/records\")\n",
        "\n",
        "run_recognizer(records_data_dict, graph, net.cpu(), 'YES_NO', beam_threshold=100)"
      ],
      "execution_count": null,
      "outputs": [
        {
          "output_type": "display_data",
          "data": {
            "application/vnd.jupyter.widget-view+json": {
              "model_id": "c4ab8f233f4f4968a0b8afca14205fcb",
              "version_major": 2,
              "version_minor": 0
            },
            "text/plain": [
              "  0%|          | 0/10 [00:00<?, ?it/s]"
            ]
          },
          "metadata": {
            "tags": []
          }
        },
        {
          "output_type": "stream",
          "text": [
            "result: no_4abb2400_nohash_0        ==> NO\n",
            "result: no_ad89eb1e_nohash_0        ==> NO\n",
            "result: yes_39a12648_nohash_0       ==> YES\n",
            "result: yes_ff63ab0b_nohash_0       ==> YES\n",
            "result: no_41474817_nohash_0        ==> NO\n",
            "result: yes_fc94edb0_nohash_0       ==> YES\n",
            "result: yes_39a6b995_nohash_0       ==> YES\n",
            "result: no_4394fc7c_nohash_0        ==> NO\n",
            "result: yes_fe1916ba_nohash_0       ==> YES\n",
            "result: no_49af4432_nohash_0        ==> NO\n",
            "------------------------------------------------------------\n",
            "WER is: 0.00%\n",
            "Total time is: 1.11 sec\n",
            "------------------------------------------------------------\n"
          ],
          "name": "stdout"
        }
      ]
    },
    {
      "cell_type": "markdown",
      "metadata": {
        "id": "1mIcRKQNfl35"
      },
      "source": [
        "### Запустим распознавание на базе Digits"
      ]
    },
    {
      "cell_type": "code",
      "metadata": {
        "id": "D862ICRZgf2V",
        "colab": {
          "referenced_widgets": [
            "95246ba1b5ac474e9d1d18fc72cd668c"
          ]
        },
        "outputId": "a7796f5b-cd5c-423b-e766-1e749942553d"
      },
      "source": [
        "lexicon_file = 'data/lexicon_digits.txt'\n",
        "lexicon_dict = load_lexicon_dict(lexicon_file)\n",
        "graph = load_graph(lexicon_dict, phones_dict, priors_list)\n",
        "records_data_dict = load_data_dict(\"data/digits/records\")\n",
        "\n",
        "run_recognizer(records_data_dict, graph, net.cpu(), 'Digits', beam_threshold=50)"
      ],
      "execution_count": null,
      "outputs": [
        {
          "output_type": "display_data",
          "data": {
            "application/vnd.jupyter.widget-view+json": {
              "model_id": "95246ba1b5ac474e9d1d18fc72cd668c",
              "version_major": 2,
              "version_minor": 0
            },
            "text/plain": [
              "  0%|          | 0/20 [00:00<?, ?it/s]"
            ]
          },
          "metadata": {
            "tags": []
          }
        },
        {
          "output_type": "stream",
          "text": [
            "result: nine_ccea893d_nohash_0      ==> NINE\n",
            "result: seven_fd32732a_nohash_0     ==> SEVEN\n",
            "result: zero_f852895b_nohash_0      ==> ZERO\n",
            "result: nine_fbe51750_nohash_0      ==> NINE\n",
            "result: six_ffd2ba2f_nohash_0       ==> SIX\n",
            "result: one_ffa76c4a_nohash_0       ==> FOUR\n",
            "result: two_fce65496_nohash_0       ==> TWO\n",
            "result: five_ffd2ba2f_nohash_0      ==> FIVE\n",
            "result: five_f852895b_nohash_0      ==> FIVE\n",
            "result: zero_f92e49f3_nohash_3      ==> ZERO\n",
            "result: six_ffbb695d_nohash_0       ==> SIX\n",
            "result: three_feb1d305_nohash_0     ==> THREE\n",
            "result: two_fb2f3242_nohash_0       ==> TWO\n",
            "result: eight_daf230ac_nohash_0     ==> EIGHT\n",
            "result: eight_da584bc0_nohash_4     ==> FIVE\n",
            "result: four_ffbb695d_nohash_0      ==> FOUR\n",
            "result: seven_fe5c4a7a_nohash_0     ==> SEVEN\n",
            "result: one_fc2411fe_nohash_0       ==> ONE\n",
            "result: three_fce96bac_nohash_0     ==> THREE\n",
            "result: four_fce65496_nohash_0      ==> FOUR\n",
            "------------------------------------------------------------\n",
            "WER is: 10.00%\n",
            "Total time is: 9.09 sec\n",
            "------------------------------------------------------------\n"
          ],
          "name": "stdout"
        }
      ]
    },
    {
      "cell_type": "markdown",
      "metadata": {
        "id": "qqsZlaeSZ3vV"
      },
      "source": [
        "### Сохраним результаты"
      ]
    },
    {
      "cell_type": "code",
      "metadata": {
        "id": "G2TwyFFRZ3vV",
        "outputId": "456b88e7-a240-4580-b1a1-0fa12a44c714"
      },
      "source": [
        "if os.path.exists(side_effect_file):\n",
        "    df = pd.read_csv(side_effect_file)\n",
        "    df['loss'] = df['loss'].apply(eval)\n",
        "    \n",
        "    dc = pd.DataFrame(side_effect).reset_index().rename(columns={'index': 'side_context'})\n",
        "    dc['description'] = side_effect_description\n",
        "    \n",
        "    df = pd.concat([df, dc], axis=0)\n",
        "    #df.to_csv(side_effect_file, index=False)\n",
        "else:\n",
        "    df = pd.DataFrame(side_effect).reset_index().rename(columns={'index': 'side_context'})\n",
        "    df['description'] = side_effect_description\n",
        "    #df.to_csv(side_effect_file, index=False)\n",
        "\n",
        "df.tail(1)"
      ],
      "execution_count": null,
      "outputs": [
        {
          "output_type": "execute_result",
          "data": {
            "text/html": [
              "<div>\n",
              "<style scoped>\n",
              "    .dataframe tbody tr th:only-of-type {\n",
              "        vertical-align: middle;\n",
              "    }\n",
              "\n",
              "    .dataframe tbody tr th {\n",
              "        vertical-align: top;\n",
              "    }\n",
              "\n",
              "    .dataframe thead th {\n",
              "        text-align: right;\n",
              "    }\n",
              "</style>\n",
              "<table border=\"1\" class=\"dataframe\">\n",
              "  <thead>\n",
              "    <tr style=\"text-align: right;\">\n",
              "      <th></th>\n",
              "      <th>side_context</th>\n",
              "      <th>loss</th>\n",
              "      <th>accuracy</th>\n",
              "      <th>training_time</th>\n",
              "      <th>YES_NO WER</th>\n",
              "      <th>Digits WER</th>\n",
              "      <th>description</th>\n",
              "    </tr>\n",
              "  </thead>\n",
              "  <tbody>\n",
              "    <tr>\n",
              "      <th>0</th>\n",
              "      <td>2</td>\n",
              "      <td>[1.9627555461633261, 1.7306622306674326, 1.654...</td>\n",
              "      <td>0.555199</td>\n",
              "      <td>113.336157</td>\n",
              "      <td>0.0</td>\n",
              "      <td>10.0</td>\n",
              "      <td>Optimal</td>\n",
              "    </tr>\n",
              "  </tbody>\n",
              "</table>\n",
              "</div>"
            ],
            "text/plain": [
              "   side_context                                               loss  accuracy  \\\n",
              "0             2  [1.9627555461633261, 1.7306622306674326, 1.654...  0.555199   \n",
              "\n",
              "   training_time  YES_NO WER  Digits WER description  \n",
              "0     113.336157         0.0        10.0     Optimal  "
            ]
          },
          "metadata": {
            "tags": []
          },
          "execution_count": 20
        }
      ]
    },
    {
      "cell_type": "markdown",
      "metadata": {
        "id": "BKFMxsxkgioi"
      },
      "source": [
        "### <b>Задание №1</b> (5 баллов):\n",
        "Реализовать контексты для входных признаков путем конкатенации кадров слева и справа от текущего. Не забудьте поддержать это и в функции распознавания. Насколько улучшилось качество на дата сетах?\n",
        "\n",
        "![](https://drive.google.com/uc?export=view&id=1ft0z6CPhX20cJnA373uLoYwHPEagaKyo)"
      ]
    },
    {
      "cell_type": "markdown",
      "metadata": {
        "id": "8t1Wg-zJg0tR"
      },
      "source": [
        "### <b>Задание №2</b> (5 баллов):\n",
        "Повысить качество классификации фонем за счет улучшения архитектуры нейронной сети, оптимизатора, других речевых признаков и т.п. Составить небольшой отчет на основе результатов перебора использованных способов. "
      ]
    },
    {
      "cell_type": "code",
      "metadata": {
        "id": "nLftU_LQZ3vW",
        "outputId": "9a64c57f-1197-4cdd-ad0f-2d0b0f04d4cb"
      },
      "source": [
        "df[df.description.isna()]"
      ],
      "execution_count": null,
      "outputs": [
        {
          "output_type": "execute_result",
          "data": {
            "text/html": [
              "<div>\n",
              "<style scoped>\n",
              "    .dataframe tbody tr th:only-of-type {\n",
              "        vertical-align: middle;\n",
              "    }\n",
              "\n",
              "    .dataframe tbody tr th {\n",
              "        vertical-align: top;\n",
              "    }\n",
              "\n",
              "    .dataframe thead th {\n",
              "        text-align: right;\n",
              "    }\n",
              "</style>\n",
              "<table border=\"1\" class=\"dataframe\">\n",
              "  <thead>\n",
              "    <tr style=\"text-align: right;\">\n",
              "      <th></th>\n",
              "      <th>side_context</th>\n",
              "      <th>loss</th>\n",
              "      <th>accuracy</th>\n",
              "      <th>training_time</th>\n",
              "      <th>YES_NO WER</th>\n",
              "      <th>Digits WER</th>\n",
              "      <th>description</th>\n",
              "    </tr>\n",
              "  </thead>\n",
              "  <tbody>\n",
              "    <tr>\n",
              "      <th>0</th>\n",
              "      <td>0</td>\n",
              "      <td>[2.2824326110083035, 2.1633390502667913, 2.127...</td>\n",
              "      <td>0.427033</td>\n",
              "      <td>110.268977</td>\n",
              "      <td>10.0</td>\n",
              "      <td>20.0</td>\n",
              "      <td>NaN</td>\n",
              "    </tr>\n",
              "    <tr>\n",
              "      <th>1</th>\n",
              "      <td>1</td>\n",
              "      <td>[2.0960227393380393, 1.895102188167389, 1.8282...</td>\n",
              "      <td>0.509849</td>\n",
              "      <td>107.076988</td>\n",
              "      <td>10.0</td>\n",
              "      <td>15.0</td>\n",
              "      <td>NaN</td>\n",
              "    </tr>\n",
              "    <tr>\n",
              "      <th>2</th>\n",
              "      <td>2</td>\n",
              "      <td>[1.9666119439610943, 1.7325869040200816, 1.655...</td>\n",
              "      <td>0.551034</td>\n",
              "      <td>108.868322</td>\n",
              "      <td>0.0</td>\n",
              "      <td>0.0</td>\n",
              "      <td>NaN</td>\n",
              "    </tr>\n",
              "    <tr>\n",
              "      <th>3</th>\n",
              "      <td>3</td>\n",
              "      <td>[1.8612791697272923, 1.6094740200617355, 1.525...</td>\n",
              "      <td>0.591441</td>\n",
              "      <td>111.806713</td>\n",
              "      <td>0.0</td>\n",
              "      <td>0.0</td>\n",
              "      <td>NaN</td>\n",
              "    </tr>\n",
              "    <tr>\n",
              "      <th>4</th>\n",
              "      <td>4</td>\n",
              "      <td>[1.803051202218997, 1.5365993443463322, 1.4464...</td>\n",
              "      <td>0.611908</td>\n",
              "      <td>106.194712</td>\n",
              "      <td>0.0</td>\n",
              "      <td>0.0</td>\n",
              "      <td>NaN</td>\n",
              "    </tr>\n",
              "    <tr>\n",
              "      <th>5</th>\n",
              "      <td>5</td>\n",
              "      <td>[1.7600204497675522, 1.4689778692885664, 1.375...</td>\n",
              "      <td>0.633826</td>\n",
              "      <td>99.256996</td>\n",
              "      <td>0.0</td>\n",
              "      <td>5.0</td>\n",
              "      <td>NaN</td>\n",
              "    </tr>\n",
              "    <tr>\n",
              "      <th>6</th>\n",
              "      <td>6</td>\n",
              "      <td>[1.7298814870235883, 1.4361002834160874, 1.340...</td>\n",
              "      <td>0.642502</td>\n",
              "      <td>93.067176</td>\n",
              "      <td>0.0</td>\n",
              "      <td>15.0</td>\n",
              "      <td>NaN</td>\n",
              "    </tr>\n",
              "  </tbody>\n",
              "</table>\n",
              "</div>"
            ],
            "text/plain": [
              "   side_context                                               loss  accuracy  \\\n",
              "0             0  [2.2824326110083035, 2.1633390502667913, 2.127...  0.427033   \n",
              "1             1  [2.0960227393380393, 1.895102188167389, 1.8282...  0.509849   \n",
              "2             2  [1.9666119439610943, 1.7325869040200816, 1.655...  0.551034   \n",
              "3             3  [1.8612791697272923, 1.6094740200617355, 1.525...  0.591441   \n",
              "4             4  [1.803051202218997, 1.5365993443463322, 1.4464...  0.611908   \n",
              "5             5  [1.7600204497675522, 1.4689778692885664, 1.375...  0.633826   \n",
              "6             6  [1.7298814870235883, 1.4361002834160874, 1.340...  0.642502   \n",
              "\n",
              "   training_time  YES_NO WER  Digits WER description  \n",
              "0     110.268977        10.0        20.0         NaN  \n",
              "1     107.076988        10.0        15.0         NaN  \n",
              "2     108.868322         0.0         0.0         NaN  \n",
              "3     111.806713         0.0         0.0         NaN  \n",
              "4     106.194712         0.0         0.0         NaN  \n",
              "5      99.256996         0.0         5.0         NaN  \n",
              "6      93.067176         0.0        15.0         NaN  "
            ]
          },
          "metadata": {
            "tags": []
          },
          "execution_count": 27
        }
      ]
    },
    {
      "cell_type": "markdown",
      "metadata": {
        "id": "I4PT_JNaZ3vW"
      },
      "source": [
        "Использование конкатенации кадров слева и справа от текущего дает хороший прирост в качестве распознавания (WER, accuracy). Значения side_context от 2 до 4 являются оптимальными. Большие значения приводял в переобучению подели, и как следствие, увеличаению ошибки распознавания на инференсе."
      ]
    },
    {
      "cell_type": "code",
      "metadata": {
        "id": "4VBR69l3Z3vW",
        "outputId": "b0424bd6-3ea5-47f9-bb0d-99d601a4d759"
      },
      "source": [
        "df.description = df.description.fillna('No optimization')\n",
        "labels = set(df.description.values)\n",
        "\n",
        "plt.rcParams['figure.figsize'] = (16, 8)\n",
        "\n",
        "plt.subplot(311)\n",
        "for lbl in labels:\n",
        "    data = df[df.description == lbl].accuracy\n",
        "    plt.bar(data.index, data.values, width=0.3, label=lbl, align='edge')   \n",
        "plt.title('Total frame accuracy')\n",
        "plt.legend()\n",
        "plt.grid()\n",
        "\n",
        "plt.subplot(312)\n",
        "for lbl in labels:\n",
        "    data = df[df.description == lbl]['YES_NO WER']\n",
        "    plt.plot(data, label=lbl)\n",
        "plt.title('YES_NO WER')\n",
        "plt.legend()\n",
        "plt.grid()\n",
        "\n",
        "plt.subplot(313)\n",
        "for lbl in labels:\n",
        "    data = df[df.description == lbl]['Digits WER']\n",
        "    plt.plot(data, label=lbl)   \n",
        "plt.title('Digits WER')\n",
        "plt.legend()\n",
        "plt.grid()\n",
        "\n",
        "plt.show()"
      ],
      "execution_count": null,
      "outputs": [
        {
          "output_type": "display_data",
          "data": {
            "image/png": "[encoded data removed]",
            "text/plain": [
              "<Figure size 1152x576 with 3 Axes>"
            ]
          },
          "metadata": {
            "tags": [],
            "needs_background": "light"
          }
        }
      ]
    },
    {
      "cell_type": "markdown",
      "metadata": {
        "id": "SRHKkQhdZ3vX"
      },
      "source": [
        "__Результаты (1 и 2 вопрос вместе)__:\n",
        "- удаление одного скрытого слоя (Minus hidden layer) и добавление одного скрытого слоя (Plus hidden layer)  ожидаемо дают соттветственно снижение и и увеличение точности, в то же время при увеличении side_context модель медленней обучается и быстрее переобучается\n",
        "- увеличение количества нейронов (512 hl size) во всех скрытых слоях быстро приводит в переобучению\n",
        "- без существенной потери качества можно уменьшить количество нейронов в скрытых слоях до 128 (128 hl size)\n",
        "- наиболее оптимальными являются исходные параметры модели (количество слоев 4, количество нейронов 256) с применением конкатенации 2 кадров слева и с права (side_context = 2)"
      ]
    },
    {
      "cell_type": "markdown",
      "metadata": {
        "id": "V2r5uQk7Z3vX"
      },
      "source": [
        "Группа MADE-ML-22 Дмитрий Чepникoв"
      ]
    },
    {
      "cell_type": "code",
      "metadata": {
        "id": "hyJ1zP9MZ3vX",
        "outputId": "6c57c8db-4d97-4385-9de3-222f2cbd19eb"
      },
      "source": [
        "df"
      ],
      "execution_count": null,
      "outputs": [
        {
          "output_type": "execute_result",
          "data": {
            "text/html": [
              "<div>\n",
              "<style scoped>\n",
              "    .dataframe tbody tr th:only-of-type {\n",
              "        vertical-align: middle;\n",
              "    }\n",
              "\n",
              "    .dataframe tbody tr th {\n",
              "        vertical-align: top;\n",
              "    }\n",
              "\n",
              "    .dataframe thead th {\n",
              "        text-align: right;\n",
              "    }\n",
              "</style>\n",
              "<table border=\"1\" class=\"dataframe\">\n",
              "  <thead>\n",
              "    <tr style=\"text-align: right;\">\n",
              "      <th></th>\n",
              "      <th>side_context</th>\n",
              "      <th>loss</th>\n",
              "      <th>accuracy</th>\n",
              "      <th>training_time</th>\n",
              "      <th>YES_NO WER</th>\n",
              "      <th>Digits WER</th>\n",
              "      <th>description</th>\n",
              "    </tr>\n",
              "  </thead>\n",
              "  <tbody>\n",
              "    <tr>\n",
              "      <th>0</th>\n",
              "      <td>0</td>\n",
              "      <td>[2.2824326110083035, 2.1633390502667913, 2.127...</td>\n",
              "      <td>0.427033</td>\n",
              "      <td>110.268977</td>\n",
              "      <td>10.0</td>\n",
              "      <td>20.0</td>\n",
              "      <td>No optimization</td>\n",
              "    </tr>\n",
              "    <tr>\n",
              "      <th>1</th>\n",
              "      <td>1</td>\n",
              "      <td>[2.0960227393380393, 1.895102188167389, 1.8282...</td>\n",
              "      <td>0.509849</td>\n",
              "      <td>107.076988</td>\n",
              "      <td>10.0</td>\n",
              "      <td>15.0</td>\n",
              "      <td>No optimization</td>\n",
              "    </tr>\n",
              "    <tr>\n",
              "      <th>2</th>\n",
              "      <td>2</td>\n",
              "      <td>[1.9666119439610943, 1.7325869040200816, 1.655...</td>\n",
              "      <td>0.551034</td>\n",
              "      <td>108.868322</td>\n",
              "      <td>0.0</td>\n",
              "      <td>0.0</td>\n",
              "      <td>No optimization</td>\n",
              "    </tr>\n",
              "    <tr>\n",
              "      <th>3</th>\n",
              "      <td>3</td>\n",
              "      <td>[1.8612791697272923, 1.6094740200617355, 1.525...</td>\n",
              "      <td>0.591441</td>\n",
              "      <td>111.806713</td>\n",
              "      <td>0.0</td>\n",
              "      <td>0.0</td>\n",
              "      <td>No optimization</td>\n",
              "    </tr>\n",
              "    <tr>\n",
              "      <th>4</th>\n",
              "      <td>4</td>\n",
              "      <td>[1.803051202218997, 1.5365993443463322, 1.4464...</td>\n",
              "      <td>0.611908</td>\n",
              "      <td>106.194712</td>\n",
              "      <td>0.0</td>\n",
              "      <td>0.0</td>\n",
              "      <td>No optimization</td>\n",
              "    </tr>\n",
              "    <tr>\n",
              "      <th>5</th>\n",
              "      <td>5</td>\n",
              "      <td>[1.7600204497675522, 1.4689778692885664, 1.375...</td>\n",
              "      <td>0.633826</td>\n",
              "      <td>99.256996</td>\n",
              "      <td>0.0</td>\n",
              "      <td>5.0</td>\n",
              "      <td>No optimization</td>\n",
              "    </tr>\n",
              "    <tr>\n",
              "      <th>6</th>\n",
              "      <td>6</td>\n",
              "      <td>[1.7298814870235883, 1.4361002834160874, 1.340...</td>\n",
              "      <td>0.642502</td>\n",
              "      <td>93.067176</td>\n",
              "      <td>0.0</td>\n",
              "      <td>15.0</td>\n",
              "      <td>No optimization</td>\n",
              "    </tr>\n",
              "    <tr>\n",
              "      <th>7</th>\n",
              "      <td>0</td>\n",
              "      <td>[2.3064655498371835, 2.180966949175575, 2.1449...</td>\n",
              "      <td>0.420906</td>\n",
              "      <td>96.088026</td>\n",
              "      <td>20.0</td>\n",
              "      <td>25.0</td>\n",
              "      <td>Minus hidden layer</td>\n",
              "    </tr>\n",
              "    <tr>\n",
              "      <th>8</th>\n",
              "      <td>1</td>\n",
              "      <td>[2.1493808991194463, 1.9390734541605052, 1.869...</td>\n",
              "      <td>0.498058</td>\n",
              "      <td>93.828906</td>\n",
              "      <td>10.0</td>\n",
              "      <td>5.0</td>\n",
              "      <td>Minus hidden layer</td>\n",
              "    </tr>\n",
              "    <tr>\n",
              "      <th>9</th>\n",
              "      <td>2</td>\n",
              "      <td>[2.019265978470947, 1.7718995031409166, 1.6915...</td>\n",
              "      <td>0.545448</td>\n",
              "      <td>91.488810</td>\n",
              "      <td>0.0</td>\n",
              "      <td>5.0</td>\n",
              "      <td>Minus hidden layer</td>\n",
              "    </tr>\n",
              "    <tr>\n",
              "      <th>10</th>\n",
              "      <td>3</td>\n",
              "      <td>[1.9256627394987573, 1.651080919067606, 1.5634...</td>\n",
              "      <td>0.580875</td>\n",
              "      <td>99.091774</td>\n",
              "      <td>0.0</td>\n",
              "      <td>10.0</td>\n",
              "      <td>Minus hidden layer</td>\n",
              "    </tr>\n",
              "    <tr>\n",
              "      <th>11</th>\n",
              "      <td>0</td>\n",
              "      <td>[2.2740238123082657, 2.155918285293894, 2.1199...</td>\n",
              "      <td>0.433693</td>\n",
              "      <td>131.522289</td>\n",
              "      <td>10.0</td>\n",
              "      <td>15.0</td>\n",
              "      <td>Plus hidden layer</td>\n",
              "    </tr>\n",
              "    <tr>\n",
              "      <th>12</th>\n",
              "      <td>1</td>\n",
              "      <td>[2.086268660799251, 1.8868506507558553, 1.8204...</td>\n",
              "      <td>0.508155</td>\n",
              "      <td>132.971776</td>\n",
              "      <td>0.0</td>\n",
              "      <td>10.0</td>\n",
              "      <td>Plus hidden layer</td>\n",
              "    </tr>\n",
              "    <tr>\n",
              "      <th>13</th>\n",
              "      <td>2</td>\n",
              "      <td>[1.9656426473750357, 1.7258266134470654, 1.645...</td>\n",
              "      <td>0.556713</td>\n",
              "      <td>131.712271</td>\n",
              "      <td>0.0</td>\n",
              "      <td>0.0</td>\n",
              "      <td>Plus hidden layer</td>\n",
              "    </tr>\n",
              "    <tr>\n",
              "      <th>14</th>\n",
              "      <td>3</td>\n",
              "      <td>[1.8768343899404862, 1.6171177068051417, 1.527...</td>\n",
              "      <td>0.583918</td>\n",
              "      <td>125.675998</td>\n",
              "      <td>0.0</td>\n",
              "      <td>5.0</td>\n",
              "      <td>Plus hidden layer</td>\n",
              "    </tr>\n",
              "    <tr>\n",
              "      <th>15</th>\n",
              "      <td>0</td>\n",
              "      <td>[2.2414765671889874, 2.1308650299524308, 2.089...</td>\n",
              "      <td>0.437741</td>\n",
              "      <td>115.844472</td>\n",
              "      <td>20.0</td>\n",
              "      <td>25.0</td>\n",
              "      <td>512 hl size</td>\n",
              "    </tr>\n",
              "    <tr>\n",
              "      <th>16</th>\n",
              "      <td>1</td>\n",
              "      <td>[2.0207250531670558, 1.8209107806176592, 1.745...</td>\n",
              "      <td>0.530151</td>\n",
              "      <td>111.954741</td>\n",
              "      <td>40.0</td>\n",
              "      <td>20.0</td>\n",
              "      <td>512 hl size</td>\n",
              "    </tr>\n",
              "    <tr>\n",
              "      <th>17</th>\n",
              "      <td>2</td>\n",
              "      <td>[1.8607684482130933, 1.6260806924395996, 1.537...</td>\n",
              "      <td>0.582263</td>\n",
              "      <td>113.645235</td>\n",
              "      <td>20.0</td>\n",
              "      <td>10.0</td>\n",
              "      <td>512 hl size</td>\n",
              "    </tr>\n",
              "    <tr>\n",
              "      <th>18</th>\n",
              "      <td>3</td>\n",
              "      <td>[1.7651461471646153, 1.503217291975628, 1.4044...</td>\n",
              "      <td>0.622475</td>\n",
              "      <td>116.678229</td>\n",
              "      <td>10.0</td>\n",
              "      <td>5.0</td>\n",
              "      <td>512 hl size</td>\n",
              "    </tr>\n",
              "    <tr>\n",
              "      <th>19</th>\n",
              "      <td>0</td>\n",
              "      <td>[2.3384629968180506, 2.204328104950067, 2.1696...</td>\n",
              "      <td>0.419965</td>\n",
              "      <td>107.363338</td>\n",
              "      <td>10.0</td>\n",
              "      <td>10.0</td>\n",
              "      <td>128 hl size</td>\n",
              "    </tr>\n",
              "    <tr>\n",
              "      <th>20</th>\n",
              "      <td>1</td>\n",
              "      <td>[2.1862207809959875, 1.9826104864162197, 1.921...</td>\n",
              "      <td>0.486456</td>\n",
              "      <td>105.950053</td>\n",
              "      <td>0.0</td>\n",
              "      <td>10.0</td>\n",
              "      <td>128 hl size</td>\n",
              "    </tr>\n",
              "    <tr>\n",
              "      <th>21</th>\n",
              "      <td>2</td>\n",
              "      <td>[2.0783721933245687, 1.8361985259650941, 1.765...</td>\n",
              "      <td>0.525640</td>\n",
              "      <td>106.841376</td>\n",
              "      <td>0.0</td>\n",
              "      <td>0.0</td>\n",
              "      <td>128 hl size</td>\n",
              "    </tr>\n",
              "    <tr>\n",
              "      <th>22</th>\n",
              "      <td>3</td>\n",
              "      <td>[2.0257739250853084, 1.7521592728715474, 1.669...</td>\n",
              "      <td>0.553010</td>\n",
              "      <td>106.161948</td>\n",
              "      <td>0.0</td>\n",
              "      <td>10.0</td>\n",
              "      <td>128 hl size</td>\n",
              "    </tr>\n",
              "  </tbody>\n",
              "</table>\n",
              "</div>"
            ],
            "text/plain": [
              "    side_context                                               loss  accuracy  \\\n",
              "0              0  [2.2824326110083035, 2.1633390502667913, 2.127...  0.427033   \n",
              "1              1  [2.0960227393380393, 1.895102188167389, 1.8282...  0.509849   \n",
              "2              2  [1.9666119439610943, 1.7325869040200816, 1.655...  0.551034   \n",
              "3              3  [1.8612791697272923, 1.6094740200617355, 1.525...  0.591441   \n",
              "4              4  [1.803051202218997, 1.5365993443463322, 1.4464...  0.611908   \n",
              "5              5  [1.7600204497675522, 1.4689778692885664, 1.375...  0.633826   \n",
              "6              6  [1.7298814870235883, 1.4361002834160874, 1.340...  0.642502   \n",
              "7              0  [2.3064655498371835, 2.180966949175575, 2.1449...  0.420906   \n",
              "8              1  [2.1493808991194463, 1.9390734541605052, 1.869...  0.498058   \n",
              "9              2  [2.019265978470947, 1.7718995031409166, 1.6915...  0.545448   \n",
              "10             3  [1.9256627394987573, 1.651080919067606, 1.5634...  0.580875   \n",
              "11             0  [2.2740238123082657, 2.155918285293894, 2.1199...  0.433693   \n",
              "12             1  [2.086268660799251, 1.8868506507558553, 1.8204...  0.508155   \n",
              "13             2  [1.9656426473750357, 1.7258266134470654, 1.645...  0.556713   \n",
              "14             3  [1.8768343899404862, 1.6171177068051417, 1.527...  0.583918   \n",
              "15             0  [2.2414765671889874, 2.1308650299524308, 2.089...  0.437741   \n",
              "16             1  [2.0207250531670558, 1.8209107806176592, 1.745...  0.530151   \n",
              "17             2  [1.8607684482130933, 1.6260806924395996, 1.537...  0.582263   \n",
              "18             3  [1.7651461471646153, 1.503217291975628, 1.4044...  0.622475   \n",
              "19             0  [2.3384629968180506, 2.204328104950067, 2.1696...  0.419965   \n",
              "20             1  [2.1862207809959875, 1.9826104864162197, 1.921...  0.486456   \n",
              "21             2  [2.0783721933245687, 1.8361985259650941, 1.765...  0.525640   \n",
              "22             3  [2.0257739250853084, 1.7521592728715474, 1.669...  0.553010   \n",
              "\n",
              "    training_time  YES_NO WER  Digits WER         description  \n",
              "0      110.268977        10.0        20.0     No optimization  \n",
              "1      107.076988        10.0        15.0     No optimization  \n",
              "2      108.868322         0.0         0.0     No optimization  \n",
              "3      111.806713         0.0         0.0     No optimization  \n",
              "4      106.194712         0.0         0.0     No optimization  \n",
              "5       99.256996         0.0         5.0     No optimization  \n",
              "6       93.067176         0.0        15.0     No optimization  \n",
              "7       96.088026        20.0        25.0  Minus hidden layer  \n",
              "8       93.828906        10.0         5.0  Minus hidden layer  \n",
              "9       91.488810         0.0         5.0  Minus hidden layer  \n",
              "10      99.091774         0.0        10.0  Minus hidden layer  \n",
              "11     131.522289        10.0        15.0   Plus hidden layer  \n",
              "12     132.971776         0.0        10.0   Plus hidden layer  \n",
              "13     131.712271         0.0         0.0   Plus hidden layer  \n",
              "14     125.675998         0.0         5.0   Plus hidden layer  \n",
              "15     115.844472        20.0        25.0         512 hl size  \n",
              "16     111.954741        40.0        20.0         512 hl size  \n",
              "17     113.645235        20.0        10.0         512 hl size  \n",
              "18     116.678229        10.0         5.0         512 hl size  \n",
              "19     107.363338        10.0        10.0         128 hl size  \n",
              "20     105.950053         0.0        10.0         128 hl size  \n",
              "21     106.841376         0.0         0.0         128 hl size  \n",
              "22     106.161948         0.0        10.0         128 hl size  "
            ]
          },
          "metadata": {
            "tags": []
          },
          "execution_count": 57
        }
      ]
    },
    {
      "cell_type": "code",
      "metadata": {
        "id": "FvefxQZZZ3vX"
      },
      "source": [
        ""
      ],
      "execution_count": null,
      "outputs": []
    }
  ]
}